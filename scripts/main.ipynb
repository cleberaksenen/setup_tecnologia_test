{
 "cells": [
  {
   "cell_type": "code",
   "execution_count": 1,
   "metadata": {},
   "outputs": [],
   "source": [
    "import pandas as pd\n",
    "import os"
   ]
  },
  {
   "cell_type": "markdown",
   "metadata": {},
   "source": [
    "## ETL das bases de dados"
   ]
  },
  {
   "cell_type": "code",
   "execution_count": 3,
   "metadata": {},
   "outputs": [],
   "source": [
    "clientes = pd.read_csv(\"../BASES/Clientes.csv\", sep=\";\")\n",
    "estoque = pd.read_csv(\"../BASES/Estoque.csv\", sep=\";\")\n",
    "fornecedores = pd.read_csv(\"../BASES/Fornecedores.csv\", sep=\";\", encoding=\"ISO-8859-1\")\n",
    "produtos = pd.read_csv(\"../BASES/Produtos.csv\", sep=\";\", encoding=\"ISO-8859-1\")\n",
    "vendas = pd.read_csv(\"../BASES/Vendas.csv\", sep=\";\")"
   ]
  },
  {
   "cell_type": "code",
   "execution_count": 5,
   "metadata": {},
   "outputs": [],
   "source": [
    "#Criação da pasta \"TRATADOS\" para armazenamento das tabelas tratadas:\n",
    "os.makedirs(\"../TRATADOS\", exist_ok=True)"
   ]
  },
  {
   "cell_type": "markdown",
   "metadata": {},
   "source": [
    "### ----------"
   ]
  },
  {
   "cell_type": "markdown",
   "metadata": {},
   "source": [
    "#### 1.Clientes"
   ]
  },
  {
   "cell_type": "code",
   "execution_count": 6,
   "metadata": {},
   "outputs": [
    {
     "data": {
      "text/html": [
       "<div>\n",
       "<style scoped>\n",
       "    .dataframe tbody tr th:only-of-type {\n",
       "        vertical-align: middle;\n",
       "    }\n",
       "\n",
       "    .dataframe tbody tr th {\n",
       "        vertical-align: top;\n",
       "    }\n",
       "\n",
       "    .dataframe thead th {\n",
       "        text-align: right;\n",
       "    }\n",
       "</style>\n",
       "<table border=\"1\" class=\"dataframe\">\n",
       "  <thead>\n",
       "    <tr style=\"text-align: right;\">\n",
       "      <th></th>\n",
       "      <th>id</th>\n",
       "      <th>name</th>\n",
       "      <th>register_number</th>\n",
       "      <th>phone</th>\n",
       "      <th>email</th>\n",
       "      <th>address</th>\n",
       "      <th>city</th>\n",
       "      <th>zip_code</th>\n",
       "    </tr>\n",
       "  </thead>\n",
       "  <tbody>\n",
       "    <tr>\n",
       "      <th>0</th>\n",
       "      <td>1</td>\n",
       "      <td>Cliente 1</td>\n",
       "      <td>05533520586545</td>\n",
       "      <td>(40) 3401-5150</td>\n",
       "      <td>cliente1@example.com</td>\n",
       "      <td>Rua Tiradentes, 926</td>\n",
       "      <td>Pinhais</td>\n",
       "      <td>54289891</td>\n",
       "    </tr>\n",
       "    <tr>\n",
       "      <th>1</th>\n",
       "      <td>2</td>\n",
       "      <td>Cliente 2</td>\n",
       "      <td>61776869155</td>\n",
       "      <td>(56) 4159-1288</td>\n",
       "      <td>cliente2@example.com</td>\n",
       "      <td>Rua Tiradentes, 645</td>\n",
       "      <td>Londrina</td>\n",
       "      <td>38512465</td>\n",
       "    </tr>\n",
       "  </tbody>\n",
       "</table>\n",
       "</div>"
      ],
      "text/plain": [
       "   id       name register_number           phone                 email  \\\n",
       "0   1  Cliente 1  05533520586545  (40) 3401-5150  cliente1@example.com   \n",
       "1   2  Cliente 2     61776869155  (56) 4159-1288  cliente2@example.com   \n",
       "\n",
       "               address      city  zip_code  \n",
       "0  Rua Tiradentes, 926   Pinhais  54289891  \n",
       "1  Rua Tiradentes, 645  Londrina  38512465  "
      ]
     },
     "execution_count": 6,
     "metadata": {},
     "output_type": "execute_result"
    }
   ],
   "source": [
    "clientes.head(2)"
   ]
  },
  {
   "cell_type": "code",
   "execution_count": 7,
   "metadata": {},
   "outputs": [
    {
     "name": "stdout",
     "output_type": "stream",
     "text": [
      "<class 'pandas.core.frame.DataFrame'>\n",
      "RangeIndex: 137 entries, 0 to 136\n",
      "Data columns (total 8 columns):\n",
      " #   Column           Non-Null Count  Dtype \n",
      "---  ------           --------------  ----- \n",
      " 0   id               137 non-null    int64 \n",
      " 1   name             137 non-null    object\n",
      " 2   register_number  137 non-null    object\n",
      " 3   phone            137 non-null    object\n",
      " 4   email            137 non-null    object\n",
      " 5   address          137 non-null    object\n",
      " 6   city             137 non-null    object\n",
      " 7   zip_code         137 non-null    int64 \n",
      "dtypes: int64(2), object(6)\n",
      "memory usage: 8.7+ KB\n"
     ]
    }
   ],
   "source": [
    "clientes.info()"
   ]
  },
  {
   "cell_type": "code",
   "execution_count": 8,
   "metadata": {},
   "outputs": [
    {
     "name": "stdout",
     "output_type": "stream",
     "text": [
      "id: 0\n",
      "name: 0\n",
      "register_number: 0\n"
     ]
    }
   ],
   "source": [
    "#Verificar se há duplicatas:\n",
    "print(\"id:\",clientes[\"id\"].duplicated().sum())\n",
    "print(\"name:\",clientes[\"name\"].duplicated().sum())\n",
    "print(\"register_number:\",clientes[\"register_number\"].duplicated().sum())"
   ]
  },
  {
   "cell_type": "code",
   "execution_count": 9,
   "metadata": {},
   "outputs": [],
   "source": [
    "#Converção da coluna \"register_number\" para str, evitando valores em not. cientifica:\n",
    "clientes[\"register_number\"] = clientes[\"register_number\"].astype(str).apply(\n",
    "    lambda x: \"{:.0f}\".format(float(x.replace(\",\", \".\"))) if \"E\" in x else x\n",
    ")"
   ]
  },
  {
   "cell_type": "code",
   "execution_count": 10,
   "metadata": {},
   "outputs": [],
   "source": [
    "# Adicionar dados de estad0, país e localidade geral:\n",
    "clientes[\"state\"] = \"PR\"\n",
    "clientes[\"country\"] = \"Brasil\"\n",
    "clientes[\"local\"] = clientes[\"city\"] + \" - \" + clientes[\"state\"] + \" - \" + clientes[\"country\"]"
   ]
  },
  {
   "cell_type": "code",
   "execution_count": 11,
   "metadata": {},
   "outputs": [],
   "source": [
    "# Criar uma coluna de endereço completo:\n",
    "clientes['complete_address'] = clientes['address'] + ', ' + clientes['local']"
   ]
  },
  {
   "cell_type": "code",
   "execution_count": 13,
   "metadata": {},
   "outputs": [],
   "source": [
    "clientes.to_csv(\"../TRATADOS/Clientes_tratado.csv\", sep=\";\", index=False)"
   ]
  },
  {
   "cell_type": "markdown",
   "metadata": {},
   "source": [
    "### ----------"
   ]
  },
  {
   "cell_type": "markdown",
   "metadata": {},
   "source": [
    "#### 2.Estoque"
   ]
  },
  {
   "cell_type": "code",
   "execution_count": 14,
   "metadata": {},
   "outputs": [
    {
     "data": {
      "text/html": [
       "<div>\n",
       "<style scoped>\n",
       "    .dataframe tbody tr th:only-of-type {\n",
       "        vertical-align: middle;\n",
       "    }\n",
       "\n",
       "    .dataframe tbody tr th {\n",
       "        vertical-align: top;\n",
       "    }\n",
       "\n",
       "    .dataframe thead th {\n",
       "        text-align: right;\n",
       "    }\n",
       "</style>\n",
       "<table border=\"1\" class=\"dataframe\">\n",
       "  <thead>\n",
       "    <tr style=\"text-align: right;\">\n",
       "      <th></th>\n",
       "      <th>product_id</th>\n",
       "      <th>stock_qty</th>\n",
       "      <th>updated_at</th>\n",
       "      <th>supplier_id</th>\n",
       "    </tr>\n",
       "  </thead>\n",
       "  <tbody>\n",
       "    <tr>\n",
       "      <th>0</th>\n",
       "      <td>1</td>\n",
       "      <td>53</td>\n",
       "      <td>01/10/2024</td>\n",
       "      <td>1</td>\n",
       "    </tr>\n",
       "    <tr>\n",
       "      <th>1</th>\n",
       "      <td>2</td>\n",
       "      <td>89</td>\n",
       "      <td>17/04/2023</td>\n",
       "      <td>21</td>\n",
       "    </tr>\n",
       "  </tbody>\n",
       "</table>\n",
       "</div>"
      ],
      "text/plain": [
       "   product_id  stock_qty  updated_at  supplier_id\n",
       "0           1         53  01/10/2024            1\n",
       "1           2         89  17/04/2023           21"
      ]
     },
     "execution_count": 14,
     "metadata": {},
     "output_type": "execute_result"
    }
   ],
   "source": [
    "estoque.head(2)"
   ]
  },
  {
   "cell_type": "code",
   "execution_count": 15,
   "metadata": {},
   "outputs": [
    {
     "name": "stdout",
     "output_type": "stream",
     "text": [
      "<class 'pandas.core.frame.DataFrame'>\n",
      "RangeIndex: 50 entries, 0 to 49\n",
      "Data columns (total 4 columns):\n",
      " #   Column       Non-Null Count  Dtype \n",
      "---  ------       --------------  ----- \n",
      " 0   product_id   50 non-null     int64 \n",
      " 1   stock_qty    50 non-null     int64 \n",
      " 2   updated_at   50 non-null     object\n",
      " 3   supplier_id  50 non-null     int64 \n",
      "dtypes: int64(3), object(1)\n",
      "memory usage: 1.7+ KB\n"
     ]
    }
   ],
   "source": [
    "estoque.info()"
   ]
  },
  {
   "cell_type": "code",
   "execution_count": 16,
   "metadata": {},
   "outputs": [
    {
     "name": "stdout",
     "output_type": "stream",
     "text": [
      "product_id: 0\n",
      "supplier_id: 38\n"
     ]
    }
   ],
   "source": [
    "#Verificar se há duplicatas:\n",
    "print(\"product_id:\", estoque[\"product_id\"].duplicated().sum())\n",
    "print(\"supplier_id:\", estoque[\"supplier_id\"].duplicated().sum())"
   ]
  },
  {
   "cell_type": "code",
   "execution_count": 17,
   "metadata": {},
   "outputs": [
    {
     "data": {
      "text/plain": [
       "0    2024-10-01\n",
       "1    2023-04-17\n",
       "2    2020-06-13\n",
       "Name: updated_at, dtype: object"
      ]
     },
     "execution_count": 17,
     "metadata": {},
     "output_type": "execute_result"
    }
   ],
   "source": [
    "#Converter data para formato \"AAA-MM-DD\":\n",
    "estoque[\"updated_at\"] = pd.to_datetime(estoque[\"updated_at\"], format=\"%d/%m/%Y\").dt.date\n",
    "estoque[\"updated_at\"].head(3)"
   ]
  },
  {
   "cell_type": "code",
   "execution_count": 18,
   "metadata": {},
   "outputs": [],
   "source": [
    "estoque.to_csv(\"../TRATADOS/Estoque_tratado.csv\", sep=\";\", index=False)"
   ]
  },
  {
   "cell_type": "markdown",
   "metadata": {},
   "source": [
    "### ----------"
   ]
  },
  {
   "cell_type": "markdown",
   "metadata": {},
   "source": [
    "#### 3.Fornecedores"
   ]
  },
  {
   "cell_type": "code",
   "execution_count": 19,
   "metadata": {},
   "outputs": [
    {
     "data": {
      "text/html": [
       "<div>\n",
       "<style scoped>\n",
       "    .dataframe tbody tr th:only-of-type {\n",
       "        vertical-align: middle;\n",
       "    }\n",
       "\n",
       "    .dataframe tbody tr th {\n",
       "        vertical-align: top;\n",
       "    }\n",
       "\n",
       "    .dataframe thead th {\n",
       "        text-align: right;\n",
       "    }\n",
       "</style>\n",
       "<table border=\"1\" class=\"dataframe\">\n",
       "  <thead>\n",
       "    <tr style=\"text-align: right;\">\n",
       "      <th></th>\n",
       "      <th>supplier_id</th>\n",
       "      <th>contractor_name</th>\n",
       "      <th>register_number</th>\n",
       "      <th>address</th>\n",
       "      <th>city</th>\n",
       "      <th>zip_code</th>\n",
       "      <th>buyed_qty</th>\n",
       "    </tr>\n",
       "  </thead>\n",
       "  <tbody>\n",
       "    <tr>\n",
       "      <th>0</th>\n",
       "      <td>1</td>\n",
       "      <td>Nogueira S.A.</td>\n",
       "      <td>02.589.476/0001-35</td>\n",
       "      <td>Rua XV de Novembro, 123</td>\n",
       "      <td>Curitiba - PR</td>\n",
       "      <td>80010-000</td>\n",
       "      <td>72</td>\n",
       "    </tr>\n",
       "    <tr>\n",
       "      <th>1</th>\n",
       "      <td>7</td>\n",
       "      <td>Ramos Vieira e Filhos</td>\n",
       "      <td>21.395.478/0001-38</td>\n",
       "      <td>Avenida Paraná, 456</td>\n",
       "      <td>Londrina - PR</td>\n",
       "      <td>86010-000</td>\n",
       "      <td>447</td>\n",
       "    </tr>\n",
       "  </tbody>\n",
       "</table>\n",
       "</div>"
      ],
      "text/plain": [
       "   supplier_id        contractor_name     register_number  \\\n",
       "0            1          Nogueira S.A.  02.589.476/0001-35   \n",
       "1            7  Ramos Vieira e Filhos  21.395.478/0001-38   \n",
       "\n",
       "                   address           city   zip_code  buyed_qty  \n",
       "0  Rua XV de Novembro, 123  Curitiba - PR  80010-000         72  \n",
       "1      Avenida Paraná, 456  Londrina - PR  86010-000        447  "
      ]
     },
     "execution_count": 19,
     "metadata": {},
     "output_type": "execute_result"
    }
   ],
   "source": [
    "fornecedores.head(2)"
   ]
  },
  {
   "cell_type": "code",
   "execution_count": 20,
   "metadata": {},
   "outputs": [
    {
     "name": "stdout",
     "output_type": "stream",
     "text": [
      "<class 'pandas.core.frame.DataFrame'>\n",
      "RangeIndex: 12 entries, 0 to 11\n",
      "Data columns (total 7 columns):\n",
      " #   Column           Non-Null Count  Dtype \n",
      "---  ------           --------------  ----- \n",
      " 0   supplier_id      12 non-null     int64 \n",
      " 1   contractor_name  12 non-null     object\n",
      " 2   register_number  12 non-null     object\n",
      " 3   address          12 non-null     object\n",
      " 4   city             12 non-null     object\n",
      " 5   zip_code         12 non-null     object\n",
      " 6   buyed_qty        12 non-null     int64 \n",
      "dtypes: int64(2), object(5)\n",
      "memory usage: 804.0+ bytes\n"
     ]
    }
   ],
   "source": [
    "fornecedores.info()"
   ]
  },
  {
   "cell_type": "code",
   "execution_count": 21,
   "metadata": {},
   "outputs": [
    {
     "name": "stdout",
     "output_type": "stream",
     "text": [
      "supplier_id: 0\n",
      "contractor_name: 0\n"
     ]
    }
   ],
   "source": [
    "#Verificar se há duplicatas:\n",
    "print(\"supplier_id:\", fornecedores[\"supplier_id\"].duplicated().sum())\n",
    "print(\"contractor_name:\", fornecedores[\"contractor_name\"].duplicated().sum())"
   ]
  },
  {
   "cell_type": "code",
   "execution_count": 22,
   "metadata": {},
   "outputs": [],
   "source": [
    "#Criação da coluna da unidade federativa do estado a partir da coluna \"city\":\n",
    "fornecedores[\"uf\"] = fornecedores[\"city\"].str.split(\" - \").str[-1]"
   ]
  },
  {
   "cell_type": "code",
   "execution_count": 23,
   "metadata": {},
   "outputs": [],
   "source": [
    "fornecedores.to_csv(\"../TRATADOS/Fornecedores_tratado.csv\", sep=\";\", index=False)"
   ]
  },
  {
   "cell_type": "markdown",
   "metadata": {},
   "source": [
    "### ----------"
   ]
  },
  {
   "cell_type": "markdown",
   "metadata": {},
   "source": [
    "#### 4.Produtos"
   ]
  },
  {
   "cell_type": "code",
   "execution_count": 24,
   "metadata": {},
   "outputs": [
    {
     "data": {
      "text/html": [
       "<div>\n",
       "<style scoped>\n",
       "    .dataframe tbody tr th:only-of-type {\n",
       "        vertical-align: middle;\n",
       "    }\n",
       "\n",
       "    .dataframe tbody tr th {\n",
       "        vertical-align: top;\n",
       "    }\n",
       "\n",
       "    .dataframe thead th {\n",
       "        text-align: right;\n",
       "    }\n",
       "</style>\n",
       "<table border=\"1\" class=\"dataframe\">\n",
       "  <thead>\n",
       "    <tr style=\"text-align: right;\">\n",
       "      <th></th>\n",
       "      <th>product_id</th>\n",
       "      <th>product_name</th>\n",
       "      <th>category</th>\n",
       "      <th>value</th>\n",
       "      <th>supplier_id</th>\n",
       "    </tr>\n",
       "  </thead>\n",
       "  <tbody>\n",
       "    <tr>\n",
       "      <th>0</th>\n",
       "      <td>1</td>\n",
       "      <td>Dolore SSD</td>\n",
       "      <td>Acessorios</td>\n",
       "      <td>4382.60</td>\n",
       "      <td>1</td>\n",
       "    </tr>\n",
       "    <tr>\n",
       "      <th>1</th>\n",
       "      <td>2</td>\n",
       "      <td>Ex HD</td>\n",
       "      <td>Acessorios</td>\n",
       "      <td>4145.27</td>\n",
       "      <td>5</td>\n",
       "    </tr>\n",
       "  </tbody>\n",
       "</table>\n",
       "</div>"
      ],
      "text/plain": [
       "   product_id product_name    category    value  supplier_id\n",
       "0           1   Dolore SSD  Acessorios  4382.60            1\n",
       "1           2        Ex HD  Acessorios  4145.27            5"
      ]
     },
     "execution_count": 24,
     "metadata": {},
     "output_type": "execute_result"
    }
   ],
   "source": [
    "produtos.head(2)"
   ]
  },
  {
   "cell_type": "code",
   "execution_count": 25,
   "metadata": {},
   "outputs": [
    {
     "name": "stdout",
     "output_type": "stream",
     "text": [
      "<class 'pandas.core.frame.DataFrame'>\n",
      "RangeIndex: 50 entries, 0 to 49\n",
      "Data columns (total 5 columns):\n",
      " #   Column        Non-Null Count  Dtype  \n",
      "---  ------        --------------  -----  \n",
      " 0   product_id    50 non-null     int64  \n",
      " 1   product_name  50 non-null     object \n",
      " 2   category      50 non-null     object \n",
      " 3   value         50 non-null     float64\n",
      " 4   supplier_id   50 non-null     int64  \n",
      "dtypes: float64(1), int64(2), object(2)\n",
      "memory usage: 2.1+ KB\n"
     ]
    }
   ],
   "source": [
    "produtos.info()"
   ]
  },
  {
   "cell_type": "code",
   "execution_count": 26,
   "metadata": {},
   "outputs": [
    {
     "name": "stdout",
     "output_type": "stream",
     "text": [
      "product_id: 0\n",
      "product_name: 0\n",
      "supplier_id: 38\n"
     ]
    }
   ],
   "source": [
    "#Verificar se há duplicatas:\n",
    "print(\"product_id:\", produtos[\"product_id\"].duplicated().sum())\n",
    "print(\"product_name:\", produtos[\"product_name\"].duplicated().sum())\n",
    "print(\"supplier_id:\", produtos[\"supplier_id\"].duplicated().sum())"
   ]
  },
  {
   "cell_type": "code",
   "execution_count": 27,
   "metadata": {},
   "outputs": [],
   "source": [
    "produtos.to_csv(\"../TRATADOS/Produtos_tratado.csv\", sep=\";\", index=False)"
   ]
  },
  {
   "cell_type": "markdown",
   "metadata": {},
   "source": [
    "### ----------"
   ]
  },
  {
   "cell_type": "markdown",
   "metadata": {},
   "source": [
    "#### 5.Vendas"
   ]
  },
  {
   "cell_type": "code",
   "execution_count": 28,
   "metadata": {},
   "outputs": [
    {
     "data": {
      "text/html": [
       "<div>\n",
       "<style scoped>\n",
       "    .dataframe tbody tr th:only-of-type {\n",
       "        vertical-align: middle;\n",
       "    }\n",
       "\n",
       "    .dataframe tbody tr th {\n",
       "        vertical-align: top;\n",
       "    }\n",
       "\n",
       "    .dataframe thead th {\n",
       "        text-align: right;\n",
       "    }\n",
       "</style>\n",
       "<table border=\"1\" class=\"dataframe\">\n",
       "  <thead>\n",
       "    <tr style=\"text-align: right;\">\n",
       "      <th></th>\n",
       "      <th>id</th>\n",
       "      <th>client_id</th>\n",
       "      <th>product_id</th>\n",
       "      <th>quantity</th>\n",
       "      <th>sale_date</th>\n",
       "      <th>total_value</th>\n",
       "    </tr>\n",
       "  </thead>\n",
       "  <tbody>\n",
       "    <tr>\n",
       "      <th>0</th>\n",
       "      <td>1</td>\n",
       "      <td>116</td>\n",
       "      <td>38</td>\n",
       "      <td>2</td>\n",
       "      <td>10/01/2025</td>\n",
       "      <td>5325.38</td>\n",
       "    </tr>\n",
       "    <tr>\n",
       "      <th>1</th>\n",
       "      <td>2</td>\n",
       "      <td>39</td>\n",
       "      <td>30</td>\n",
       "      <td>1</td>\n",
       "      <td>09/08/2024</td>\n",
       "      <td>1536.48</td>\n",
       "    </tr>\n",
       "  </tbody>\n",
       "</table>\n",
       "</div>"
      ],
      "text/plain": [
       "   id  client_id  product_id  quantity   sale_date  total_value\n",
       "0   1        116          38         2  10/01/2025      5325.38\n",
       "1   2         39          30         1  09/08/2024      1536.48"
      ]
     },
     "execution_count": 28,
     "metadata": {},
     "output_type": "execute_result"
    }
   ],
   "source": [
    "vendas.head(2)"
   ]
  },
  {
   "cell_type": "code",
   "execution_count": 29,
   "metadata": {},
   "outputs": [
    {
     "name": "stdout",
     "output_type": "stream",
     "text": [
      "<class 'pandas.core.frame.DataFrame'>\n",
      "RangeIndex: 100 entries, 0 to 99\n",
      "Data columns (total 6 columns):\n",
      " #   Column       Non-Null Count  Dtype  \n",
      "---  ------       --------------  -----  \n",
      " 0   id           100 non-null    int64  \n",
      " 1   client_id    100 non-null    int64  \n",
      " 2   product_id   100 non-null    int64  \n",
      " 3   quantity     100 non-null    int64  \n",
      " 4   sale_date    100 non-null    object \n",
      " 5   total_value  100 non-null    float64\n",
      "dtypes: float64(1), int64(4), object(1)\n",
      "memory usage: 4.8+ KB\n"
     ]
    }
   ],
   "source": [
    "vendas.info()"
   ]
  },
  {
   "cell_type": "code",
   "execution_count": 30,
   "metadata": {},
   "outputs": [
    {
     "name": "stdout",
     "output_type": "stream",
     "text": [
      "id: 0\n",
      "client_id: 25\n",
      "product_id: 57\n"
     ]
    }
   ],
   "source": [
    "#Verificar se há duplicatas:\n",
    "print(\"id:\", vendas[\"id\"].duplicated().sum())\n",
    "print(\"client_id:\", vendas[\"client_id\"].duplicated().sum())\n",
    "print(\"product_id:\", vendas[\"product_id\"].duplicated().sum())"
   ]
  },
  {
   "cell_type": "code",
   "execution_count": 31,
   "metadata": {},
   "outputs": [
    {
     "data": {
      "text/plain": [
       "0   2025-01-10\n",
       "1   2024-08-09\n",
       "2   2024-12-04\n",
       "Name: sale_date, dtype: datetime64[ns]"
      ]
     },
     "execution_count": 31,
     "metadata": {},
     "output_type": "execute_result"
    }
   ],
   "source": [
    "#Converter data para formato \"AAA-MM-DD\":\n",
    "vendas[\"sale_date\"] = pd.to_datetime(vendas[\"sale_date\"], format=\"%d/%m/%Y\")\n",
    "vendas[\"sale_date\"].head(3)"
   ]
  },
  {
   "cell_type": "code",
   "execution_count": 32,
   "metadata": {},
   "outputs": [],
   "source": [
    "vendas.to_csv(\"../TRATADOS/Vendas_tratado.csv\", sep=\";\", index=False)"
   ]
  }
 ],
 "metadata": {
  "kernelspec": {
   "display_name": "Python 3",
   "language": "python",
   "name": "python3"
  },
  "language_info": {
   "codemirror_mode": {
    "name": "ipython",
    "version": 3
   },
   "file_extension": ".py",
   "mimetype": "text/x-python",
   "name": "python",
   "nbconvert_exporter": "python",
   "pygments_lexer": "ipython3",
   "version": "3.13.2"
  }
 },
 "nbformat": 4,
 "nbformat_minor": 2
}
